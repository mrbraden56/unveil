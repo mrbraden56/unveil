{
 "cells": [
  {
   "cell_type": "code",
   "execution_count": 4,
   "id": "e079b8ec",
   "metadata": {},
   "outputs": [],
   "source": [
    "import pandas as pd"
   ]
  },
  {
   "cell_type": "code",
   "execution_count": 6,
   "id": "0effae1b",
   "metadata": {},
   "outputs": [],
   "source": [
    "df=pd.read_csv(r\"C:\\Users\\brade\\Research\\unveil\\app\\download_files\\NASDAQ_ABEO_2020.csv\")"
   ]
  },
  {
   "cell_type": "code",
   "execution_count": 9,
   "id": "ea71035c",
   "metadata": {},
   "outputs": [
    {
     "data": {
      "text/plain": [
       "'Part III   \\nItem 10. Directors, Executive Officers and Corporate Governance 78\\nItem 11. Executive Compensation 78\\nItem 12. Security Ownership of Certain Beneficial Owners and Management and Related Stockholder Matters 78\\nItem 13. Certain Relationships and Related Transactions, and Director Independence 78\\nItem 14. Principal Accounting Fees and Services 78\\nItem 15. Exhibits, Financial Statement Schedules 79\\nItem 16. Form 10-K Summary 80'"
      ]
     },
     "execution_count": 9,
     "metadata": {},
     "output_type": "execute_result"
    }
   ],
   "source": [
    "df[\"Original\"].loc[2]"
   ]
  },
  {
   "cell_type": "code",
   "execution_count": 11,
   "id": "f0ab1af4",
   "metadata": {},
   "outputs": [
    {
     "data": {
      "text/plain": [
       "'Indicate by check mark whether the registrant is an emerging growth company as defined in Rule 405 of the Securities Act of 1933 ( ⁇ 230.405 of this chapter) or Rule 12b-2 of the Securities Exchange Act of 1934 ( ⁇ 240.12b-2 of this chapter).'"
      ]
     },
     "execution_count": 11,
     "metadata": {},
     "output_type": "execute_result"
    }
   ],
   "source": [
    "df[\"Summarized\"].loc[2]"
   ]
  },
  {
   "cell_type": "code",
   "execution_count": null,
   "id": "af4e8e38",
   "metadata": {},
   "outputs": [],
   "source": []
  }
 ],
 "metadata": {
  "kernelspec": {
   "display_name": "Python 3 (ipykernel)",
   "language": "python",
   "name": "python3"
  },
  "language_info": {
   "codemirror_mode": {
    "name": "ipython",
    "version": 3
   },
   "file_extension": ".py",
   "mimetype": "text/x-python",
   "name": "python",
   "nbconvert_exporter": "python",
   "pygments_lexer": "ipython3",
   "version": "3.10.7"
  }
 },
 "nbformat": 4,
 "nbformat_minor": 5
}

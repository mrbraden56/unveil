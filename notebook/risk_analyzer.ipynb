{
 "cells": [
  {
   "cell_type": "code",
   "execution_count": 4,
   "id": "5198fd69",
   "metadata": {},
   "outputs": [],
   "source": [
    "import pandas as pd"
   ]
  },
  {
   "cell_type": "code",
   "execution_count": 6,
   "id": "866522d4",
   "metadata": {},
   "outputs": [],
   "source": [
    "df=pd.read_csv(r\"C:\\Users\\brade\\Research\\unveil\\app\\download_files\\NASDAQ_ABEO_2020.csv\")"
   ]
  },
  {
   "cell_type": "code",
   "execution_count": 8,
   "id": "051bd4d5",
   "metadata": {},
   "outputs": [
    {
     "data": {
      "text/plain": [
       "0    Page\\nPart I\\nItem 1. Business 3\\nItem 1A. Ris...\n",
       "1    Part II   \\nItem 5. Market for Registrant’s Co...\n",
       "2    Part III   \\nItem 10. Directors, Executive Off...\n",
       "Name: Original, dtype: object"
      ]
     },
     "execution_count": 8,
     "metadata": {},
     "output_type": "execute_result"
    }
   ],
   "source": [
    "df[\"Original\"]"
   ]
  },
  {
   "cell_type": "code",
   "execution_count": null,
   "id": "962f3645",
   "metadata": {},
   "outputs": [],
   "source": []
  }
 ],
 "metadata": {
  "kernelspec": {
   "display_name": "Python 3 (ipykernel)",
   "language": "python",
   "name": "python3"
  },
  "language_info": {
   "codemirror_mode": {
    "name": "ipython",
    "version": 3
   },
   "file_extension": ".py",
   "mimetype": "text/x-python",
   "name": "python",
   "nbconvert_exporter": "python",
   "pygments_lexer": "ipython3",
   "version": "3.10.7"
  }
 },
 "nbformat": 4,
 "nbformat_minor": 5
}
